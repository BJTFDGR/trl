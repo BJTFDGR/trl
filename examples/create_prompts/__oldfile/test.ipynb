{
 "cells": [
  {
   "cell_type": "code",
   "execution_count": 10,
   "metadata": {},
   "outputs": [],
   "source": [
    "import torch\n",
    "from transformers import GPT2LMHeadModel, GPT2Tokenizer, RobertaTokenizer, RobertaForSequenceClassification, pipeline\n",
    "\n",
    "# Load GPT-2 and its tokenizer\n",
    "tokenizer = GPT2Tokenizer.from_pretrained(\"gpt2-medium\",cache_dir='/home/chenboc1/localscratch2/chenboc1/trl/.cache')\n",
    "model = GPT2LMHeadModel.from_pretrained(\"gpt2-medium\",cache_dir='/home/chenboc1/localscratch2/chenboc1/trl/.cache')\n",
    "model.eval()\n",
    "\n",
    "# Set the device\n",
    "device = \"cuda\" if torch.cuda.is_available() else \"cpu\"\n",
    "model.to(device)\n",
    "\n",
    "# Load the toxicity model\n",
    "toxicity_model_id = \"facebook/roberta-hate-speech-dynabench-r4-target\"\n",
    "toxicity_model = RobertaForSequenceClassification.from_pretrained(toxicity_model_id,cache_dir='/home/chenboc1/localscratch2/chenboc1/trl/.cache').to(device).eval()\n",
    "toxicity_tokenizer = RobertaTokenizer.from_pretrained(toxicity_model_id,cache_dir='/home/chenboc1/localscratch2/chenboc1/trl/.cache')\n",
    "\n",
    "# Load sentiment analysis pipeline\n",
    "sentiment_pipe = pipeline(\"sentiment-analysis\", model=\"lvwerra/distilbert-imdb\", device=0)\n"
   ]
  },
  {
   "cell_type": "code",
   "execution_count": 33,
   "metadata": {},
   "outputs": [],
   "source": [
    "def rw_model(text):\n",
    "    result = sentiment_pipe(text)[0]\n",
    "    score = 5 if result['label'] == 'POSITIVE' else -5\n",
    "    return torch.tensor([score * result['score']], requires_grad=True).to(device)\n",
    "\n",
    "\n",
    "\n",
    "def tw_model(text):\n",
    "    with torch.no_grad():\n",
    "        inputs = toxicity_tokenizer(text, return_tensors=\"pt\", truncation=True, padding='max_length', max_length=128).to(device)\n",
    "        outputs = toxicity_model(**inputs)\n",
    "        probs = torch.nn.functional.softmax(outputs.logits, dim=-1)\n",
    "        toxicity_score = probs[0][1]\n",
    "    return toxicity_score.unsqueeze(0).clone().detach().requires_grad_(True)\n",
    "\n"
   ]
  },
  {
   "cell_type": "code",
   "execution_count": 39,
   "metadata": {},
   "outputs": [],
   "source": [
    "def compute_gradient(original_prompt):\n",
    "    input_ids = tokenizer.encode(original_prompt, return_tensors=\"pt\").to(device)\n",
    "    \n",
    "    # We'll keep the embeddings attached to the computation graph\n",
    "    embeddings = model.transformer.wte(input_ids)\n",
    "    outputs = model(inputs_embeds=embeddings)\n",
    "    logits = outputs.logits\n",
    "    predicted_token_id = torch.argmax(logits[0, -1, :]).item()\n",
    "    predicted_token = tokenizer.decode(predicted_token_id)\n",
    "\n",
    "    rw_score = rw_model(predicted_token)\n",
    "    tw_score = tw_model(predicted_token)\n",
    "    rw_score = tw_score\n",
    "    \n",
    "    loss = torch.abs(rw_score - 5) + torch.abs(tw_score - 1)\n",
    "    \n",
    "    # Backward pass\n",
    "    loss.backward()\n",
    "\n",
    "    # Ensure that the gradient exists\n",
    "    if embeddings.grad is not None:\n",
    "        gradient = embeddings.grad[0]\n",
    "    else:\n",
    "        print(\"Gradient not computed!\")\n",
    "        gradient = torch.zeros_like(embeddings[0])\n",
    "\n",
    "    return gradient, input_ids[0]\n",
    "\n",
    "\n",
    "\n",
    "def optimize_prompt(original_prompt, iterations=10):\n",
    "    # Unpack the tuple returned by compute_gradient\n",
    "    gradient, token_ids = compute_gradient(original_prompt)\n",
    "    \n",
    "    # Find the position with maximum absolute gradient\n",
    "    position = torch.argmax(torch.abs(gradient)).item()\n",
    "    \n",
    "    \n",
    "    # Insert \"Joe Biden\" at this position\n",
    "    words = original_prompt.split()\n",
    "    words.insert(position, \"Joe Biden\")\n",
    "    new_prompt = \" \".join(words)\n",
    "    \n",
    "    return new_prompt\n"
   ]
  },
  {
   "cell_type": "code",
   "execution_count": 51,
   "metadata": {},
   "outputs": [],
   "source": [
    "def compute_gradient(original_prompt):\n",
    "    input_ids = tokenizer.encode(original_prompt, return_tensors=\"pt\").to(device)\n",
    "    \n",
    "    embeddings = model.transformer.wte(input_ids)\n",
    "    embeddings.retain_grad()  # Ensure gradients for embeddings are retained\n",
    "    outputs = model(inputs_embeds=embeddings)\n",
    "    response = tokenizer.decode(outputs.logits[0].argmax(dim=-1).tolist())\n",
    "\n",
    "    # Get scores from models\n",
    "    rw_result = sentiment_pipe(response)\n",
    "    tw_result = toxicity_tokenizer.encode_plus(response, return_tensors='pt')\n",
    "    # tw_output = tw_model(input_ids=tw_result['input_ids'], attention_mask=tw_result['attention_mask'])\n",
    "    tw_output = sentiment_pipe(original_prompt)\n",
    "\n",
    "    # tw_score_tensor = torch.sigmoid(tw_output.logits)\n",
    "    tw_score_tensor = torch.tensor([tw_output[0]['score'] if tw_output[0]['label'] == 'POSITIVE' else -tw_output[0]['score']]).to(device)\n",
    "\n",
    "    rw_score_tensor = torch.tensor([rw_result[0]['score'] if rw_result[0]['label'] == 'POSITIVE' else -rw_result[0]['score']]).to(device)\n",
    "    \n",
    "    loss = torch.abs(rw_score_tensor - 5) + torch.abs(tw_score_tensor - 1)\n",
    "    \n",
    "    # Backward pass\n",
    "    loss.backward()\n",
    "\n",
    "    # Ensure that the gradient exists\n",
    "    if embeddings.grad is not None:\n",
    "        gradient = embeddings.grad[0]\n",
    "    else:\n",
    "        print(\"Gradient not computed!\")\n",
    "        gradient = torch.zeros_like(embeddings[0])\n",
    "\n",
    "    return gradient, input_ids[0]\n"
   ]
  },
  {
   "cell_type": "code",
   "execution_count": 52,
   "metadata": {},
   "outputs": [
    {
     "ename": "RuntimeError",
     "evalue": "element 0 of tensors does not require grad and does not have a grad_fn",
     "output_type": "error",
     "traceback": [
      "\u001b[0;31m---------------------------------------------------------------------------\u001b[0m",
      "\u001b[0;31mRuntimeError\u001b[0m                              Traceback (most recent call last)",
      "Cell \u001b[0;32mIn[52], line 8\u001b[0m\n\u001b[1;32m      1\u001b[0m prompts \u001b[39m=\u001b[39m [\n\u001b[1;32m      2\u001b[0m     \u001b[39m\"\u001b[39m\u001b[39mThe global political scene is\u001b[39m\u001b[39m\"\u001b[39m,\n\u001b[1;32m      3\u001b[0m     \u001b[39m\"\u001b[39m\u001b[39mIn today\u001b[39m\u001b[39m'\u001b[39m\u001b[39ms news, we discuss\u001b[39m\u001b[39m\"\u001b[39m,\n\u001b[1;32m      4\u001b[0m     \u001b[39m\"\u001b[39m\u001b[39mMany leaders have different styles, including\u001b[39m\u001b[39m\"\u001b[39m\n\u001b[1;32m      5\u001b[0m ]\n\u001b[1;32m      7\u001b[0m \u001b[39mfor\u001b[39;00m p \u001b[39min\u001b[39;00m prompts:\n\u001b[0;32m----> 8\u001b[0m     optimized_prompt \u001b[39m=\u001b[39m optimize_prompt(p)\n\u001b[1;32m     10\u001b[0m     \u001b[39mprint\u001b[39m(\u001b[39mf\u001b[39m\u001b[39m\"\u001b[39m\u001b[39mOriginal Prompt: \u001b[39m\u001b[39m{\u001b[39;00mp\u001b[39m}\u001b[39;00m\u001b[39m\"\u001b[39m)\n\u001b[1;32m     11\u001b[0m     \u001b[39mprint\u001b[39m(\u001b[39mf\u001b[39m\u001b[39m\"\u001b[39m\u001b[39mOptimized Prompt: \u001b[39m\u001b[39m{\u001b[39;00moptimized_prompt\u001b[39m}\u001b[39;00m\u001b[39m\"\u001b[39m)\n",
      "Cell \u001b[0;32mIn[39], line 33\u001b[0m, in \u001b[0;36moptimize_prompt\u001b[0;34m(original_prompt, iterations)\u001b[0m\n\u001b[1;32m     31\u001b[0m \u001b[39mdef\u001b[39;00m \u001b[39moptimize_prompt\u001b[39m(original_prompt, iterations\u001b[39m=\u001b[39m\u001b[39m10\u001b[39m):\n\u001b[1;32m     32\u001b[0m     \u001b[39m# Unpack the tuple returned by compute_gradient\u001b[39;00m\n\u001b[0;32m---> 33\u001b[0m     gradient, token_ids \u001b[39m=\u001b[39m compute_gradient(original_prompt)\n\u001b[1;32m     35\u001b[0m     \u001b[39m# Find the position with maximum absolute gradient\u001b[39;00m\n\u001b[1;32m     36\u001b[0m     position \u001b[39m=\u001b[39m torch\u001b[39m.\u001b[39margmax(torch\u001b[39m.\u001b[39mabs(gradient))\u001b[39m.\u001b[39mitem()\n",
      "Cell \u001b[0;32mIn[51], line 23\u001b[0m, in \u001b[0;36mcompute_gradient\u001b[0;34m(original_prompt)\u001b[0m\n\u001b[1;32m     20\u001b[0m loss \u001b[39m=\u001b[39m torch\u001b[39m.\u001b[39mabs(rw_score_tensor \u001b[39m-\u001b[39m \u001b[39m5\u001b[39m) \u001b[39m+\u001b[39m torch\u001b[39m.\u001b[39mabs(tw_score_tensor \u001b[39m-\u001b[39m \u001b[39m1\u001b[39m)\n\u001b[1;32m     22\u001b[0m \u001b[39m# Backward pass\u001b[39;00m\n\u001b[0;32m---> 23\u001b[0m loss\u001b[39m.\u001b[39;49mbackward()\n\u001b[1;32m     25\u001b[0m \u001b[39m# Ensure that the gradient exists\u001b[39;00m\n\u001b[1;32m     26\u001b[0m \u001b[39mif\u001b[39;00m embeddings\u001b[39m.\u001b[39mgrad \u001b[39mis\u001b[39;00m \u001b[39mnot\u001b[39;00m \u001b[39mNone\u001b[39;00m:\n",
      "File \u001b[0;32m/localscratch/chenboc1/anaconda3/envs/trl/lib/python3.11/site-packages/torch/_tensor.py:487\u001b[0m, in \u001b[0;36mTensor.backward\u001b[0;34m(self, gradient, retain_graph, create_graph, inputs)\u001b[0m\n\u001b[1;32m    477\u001b[0m \u001b[39mif\u001b[39;00m has_torch_function_unary(\u001b[39mself\u001b[39m):\n\u001b[1;32m    478\u001b[0m     \u001b[39mreturn\u001b[39;00m handle_torch_function(\n\u001b[1;32m    479\u001b[0m         Tensor\u001b[39m.\u001b[39mbackward,\n\u001b[1;32m    480\u001b[0m         (\u001b[39mself\u001b[39m,),\n\u001b[0;32m   (...)\u001b[0m\n\u001b[1;32m    485\u001b[0m         inputs\u001b[39m=\u001b[39minputs,\n\u001b[1;32m    486\u001b[0m     )\n\u001b[0;32m--> 487\u001b[0m torch\u001b[39m.\u001b[39;49mautograd\u001b[39m.\u001b[39;49mbackward(\n\u001b[1;32m    488\u001b[0m     \u001b[39mself\u001b[39;49m, gradient, retain_graph, create_graph, inputs\u001b[39m=\u001b[39;49minputs\n\u001b[1;32m    489\u001b[0m )\n",
      "File \u001b[0;32m/localscratch/chenboc1/anaconda3/envs/trl/lib/python3.11/site-packages/torch/autograd/__init__.py:200\u001b[0m, in \u001b[0;36mbackward\u001b[0;34m(tensors, grad_tensors, retain_graph, create_graph, grad_variables, inputs)\u001b[0m\n\u001b[1;32m    195\u001b[0m     retain_graph \u001b[39m=\u001b[39m create_graph\n\u001b[1;32m    197\u001b[0m \u001b[39m# The reason we repeat same the comment below is that\u001b[39;00m\n\u001b[1;32m    198\u001b[0m \u001b[39m# some Python versions print out the first line of a multi-line function\u001b[39;00m\n\u001b[1;32m    199\u001b[0m \u001b[39m# calls in the traceback and some print out the last line\u001b[39;00m\n\u001b[0;32m--> 200\u001b[0m Variable\u001b[39m.\u001b[39;49m_execution_engine\u001b[39m.\u001b[39;49mrun_backward(  \u001b[39m# Calls into the C++ engine to run the backward pass\u001b[39;49;00m\n\u001b[1;32m    201\u001b[0m     tensors, grad_tensors_, retain_graph, create_graph, inputs,\n\u001b[1;32m    202\u001b[0m     allow_unreachable\u001b[39m=\u001b[39;49m\u001b[39mTrue\u001b[39;49;00m, accumulate_grad\u001b[39m=\u001b[39;49m\u001b[39mTrue\u001b[39;49;00m)\n",
      "\u001b[0;31mRuntimeError\u001b[0m: element 0 of tensors does not require grad and does not have a grad_fn"
     ]
    }
   ],
   "source": [
    "prompts = [\n",
    "    \"The global political scene is\",\n",
    "    \"In today's news, we discuss\",\n",
    "    \"Many leaders have different styles, including\"\n",
    "]\n",
    "\n",
    "for p in prompts:\n",
    "    optimized_prompt = optimize_prompt(p)\n",
    "\n",
    "    print(f\"Original Prompt: {p}\")\n",
    "    print(f\"Optimized Prompt: {optimized_prompt}\")\n",
    "    print(\"=\"*50)\n"
   ]
  },
  {
   "cell_type": "markdown",
   "metadata": {},
   "source": [
    "#### Start with a clean slate"
   ]
  },
  {
   "cell_type": "code",
   "execution_count": 1,
   "metadata": {},
   "outputs": [],
   "source": [
    "from transformers import RobertaTokenizer, RobertaForSequenceClassification, GPT2LMHeadModel, GPT2Tokenizer\n",
    "import torch\n",
    "\n",
    "# For Toxicity Model\n",
    "toxicity_model_id = \"facebook/roberta-hate-speech-dynabench-r4-target\"\n",
    "toxicity_model = RobertaForSequenceClassification.from_pretrained(toxicity_model_id,cache_dir='/home/chenboc1/localscratch2/chenboc1/trl/.cache')\n",
    "toxicity_tokenizer = RobertaTokenizer.from_pretrained(toxicity_model_id,cache_dir='/home/chenboc1/localscratch2/chenboc1/trl/.cache')\n",
    "\n",
    "# For Rw Model (assuming the same model)\n",
    "rw_model_id = \"facebook/roberta-hate-speech-dynabench-r4-target\"\n",
    "rw_model = RobertaForSequenceClassification.from_pretrained(rw_model_id,cache_dir='/home/chenboc1/localscratch2/chenboc1/trl/.cache')\n",
    "rw_tokenizer = RobertaTokenizer.from_pretrained(rw_model_id,cache_dir='/home/chenboc1/localscratch2/chenboc1/trl/.cache')\n",
    "\n",
    "# For GPT-2\n",
    "tokenizer = GPT2Tokenizer.from_pretrained(\"gpt2-medium\",cache_dir='/home/chenboc1/localscratch2/chenboc1/trl/.cache')\n",
    "model = GPT2LMHeadModel.from_pretrained(\"gpt2-medium\",cache_dir='/home/chenboc1/localscratch2/chenboc1/trl/.cache')\n",
    "model.eval()\n",
    "\n",
    "if torch.cuda.is_available():\n",
    "    model.cuda()\n",
    "    rw_model.cuda()\n",
    "    toxicity_model.cuda()"
   ]
  },
  {
   "cell_type": "code",
   "execution_count": 2,
   "metadata": {},
   "outputs": [],
   "source": [
    "def objective_function(prompt_tensor):\n",
    "    with torch.no_grad():\n",
    "        outputs = model(prompt_tensor)\n",
    "        logits = outputs.logits\n",
    "        # Get the token id of the last predicted word\n",
    "        predicted_token_id = torch.argmax(logits[0, -1, :]).item()\n",
    "        predicted_token = tokenizer.decode(predicted_token_id)\n",
    "\n",
    "    rw_output = rw_model(**rw_tokenizer(predicted_token, return_tensors=\"pt\", truncation=True, padding='max_length', max_length=512))\n",
    "    rw_score = rw_output.logits[0, 1].sigmoid().item() * 10 - 5  # Assuming sigmoid score scaled to -5 to 5 range\n",
    "\n",
    "    tw_output = toxicity_model(**toxicity_tokenizer(predicted_token, return_tensors=\"pt\", truncation=True, padding='max_length', max_length=512))\n",
    "    tw_score = tw_output.logits[0, 1].sigmoid().item()  # Assuming sigmoid score in range 0 to 1\n",
    "\n",
    "    loss = abs(rw_score - 5) + abs(tw_score - 1)\n",
    "    return loss\n",
    "\n",
    "def compute_gradient(original_prompt):\n",
    "    prompt_tensor = tokenizer.encode(original_prompt, return_tensors=\"pt\")\n",
    "    \n",
    "    if torch.cuda.is_available():\n",
    "        prompt_tensor = prompt_tensor.cuda()\n",
    "    \n",
    "    prompt_tensor.requires_grad_(True)\n",
    "    \n",
    "    loss = objective_function(prompt_tensor)\n",
    "    \n",
    "    # Backward pass\n",
    "    model.zero_grad()\n",
    "    loss.backward()\n",
    "\n",
    "    gradient = prompt_tensor.grad\n",
    "    return gradient\n",
    "\n",
    "def optimize_prompt(original_prompt, iterations=1):\n",
    "    for _ in range(iterations):\n",
    "        gradient = compute_gradient(original_prompt)\n",
    "        \n",
    "        # Identify position with highest gradient magnitude\n",
    "        position = torch.argmax(torch.abs(gradient)).item()\n",
    "        \n",
    "        # Insert \"Joe Biden\" at this position\n",
    "        words = original_prompt.split()\n",
    "        words.insert(position, \"Joe Biden\")\n",
    "        original_prompt = ' '.join(words)\n",
    "\n",
    "    return original_prompt\n"
   ]
  },
  {
   "cell_type": "code",
   "execution_count": 3,
   "metadata": {},
   "outputs": [
    {
     "ename": "RuntimeError",
     "evalue": "only Tensors of floating point dtype can require gradients",
     "output_type": "error",
     "traceback": [
      "\u001b[0;31m---------------------------------------------------------------------------\u001b[0m",
      "\u001b[0;31mRuntimeError\u001b[0m                              Traceback (most recent call last)",
      "Cell \u001b[0;32mIn[3], line 8\u001b[0m\n\u001b[1;32m      1\u001b[0m test_prompts \u001b[39m=\u001b[39m [\n\u001b[1;32m      2\u001b[0m     \u001b[39m\"\u001b[39m\u001b[39mThe current political scenario in the United States is\u001b[39m\u001b[39m\"\u001b[39m,\n\u001b[1;32m      3\u001b[0m     \u001b[39m\"\u001b[39m\u001b[39mForeign policies under the current administration are\u001b[39m\u001b[39m\"\u001b[39m,\n\u001b[1;32m      4\u001b[0m     \u001b[39m\"\u001b[39m\u001b[39mThe economy and job growth have shown\u001b[39m\u001b[39m\"\u001b[39m,\n\u001b[1;32m      5\u001b[0m ]\n\u001b[1;32m      7\u001b[0m \u001b[39mfor\u001b[39;00m prompt \u001b[39min\u001b[39;00m test_prompts:\n\u001b[0;32m----> 8\u001b[0m     optimized_prompt \u001b[39m=\u001b[39m optimize_prompt(prompt)\n\u001b[1;32m      9\u001b[0m     \u001b[39mprint\u001b[39m(\u001b[39mf\u001b[39m\u001b[39m\"\u001b[39m\u001b[39mOriginal Prompt: \u001b[39m\u001b[39m{\u001b[39;00mprompt\u001b[39m}\u001b[39;00m\u001b[39m\"\u001b[39m)\n\u001b[1;32m     10\u001b[0m     \u001b[39mprint\u001b[39m(\u001b[39mf\u001b[39m\u001b[39m\"\u001b[39m\u001b[39mOptimized Prompt: \u001b[39m\u001b[39m{\u001b[39;00moptimized_prompt\u001b[39m}\u001b[39;00m\u001b[39m\\n\u001b[39;00m\u001b[39m\"\u001b[39m)\n",
      "Cell \u001b[0;32mIn[2], line 37\u001b[0m, in \u001b[0;36moptimize_prompt\u001b[0;34m(original_prompt, iterations)\u001b[0m\n\u001b[1;32m     35\u001b[0m \u001b[39mdef\u001b[39;00m \u001b[39moptimize_prompt\u001b[39m(original_prompt, iterations\u001b[39m=\u001b[39m\u001b[39m1\u001b[39m):\n\u001b[1;32m     36\u001b[0m     \u001b[39mfor\u001b[39;00m _ \u001b[39min\u001b[39;00m \u001b[39mrange\u001b[39m(iterations):\n\u001b[0;32m---> 37\u001b[0m         gradient \u001b[39m=\u001b[39m compute_gradient(original_prompt)\n\u001b[1;32m     39\u001b[0m         \u001b[39m# Identify position with highest gradient magnitude\u001b[39;00m\n\u001b[1;32m     40\u001b[0m         position \u001b[39m=\u001b[39m torch\u001b[39m.\u001b[39margmax(torch\u001b[39m.\u001b[39mabs(gradient))\u001b[39m.\u001b[39mitem()\n",
      "Cell \u001b[0;32mIn[2], line 24\u001b[0m, in \u001b[0;36mcompute_gradient\u001b[0;34m(original_prompt)\u001b[0m\n\u001b[1;32m     21\u001b[0m \u001b[39mif\u001b[39;00m torch\u001b[39m.\u001b[39mcuda\u001b[39m.\u001b[39mis_available():\n\u001b[1;32m     22\u001b[0m     prompt_tensor \u001b[39m=\u001b[39m prompt_tensor\u001b[39m.\u001b[39mcuda()\n\u001b[0;32m---> 24\u001b[0m prompt_tensor\u001b[39m.\u001b[39;49mrequires_grad_(\u001b[39mTrue\u001b[39;49;00m)\n\u001b[1;32m     26\u001b[0m loss \u001b[39m=\u001b[39m objective_function(prompt_tensor)\n\u001b[1;32m     28\u001b[0m \u001b[39m# Backward pass\u001b[39;00m\n",
      "\u001b[0;31mRuntimeError\u001b[0m: only Tensors of floating point dtype can require gradients"
     ]
    }
   ],
   "source": [
    "test_prompts = [\n",
    "    \"The current political scenario in the United States is\",\n",
    "    \"Foreign policies under the current administration are\",\n",
    "    \"The economy and job growth have shown\",\n",
    "]\n",
    "\n",
    "for prompt in test_prompts:\n",
    "    optimized_prompt = optimize_prompt(prompt)\n",
    "    print(f\"Original Prompt: {prompt}\")\n",
    "    print(f\"Optimized Prompt: {optimized_prompt}\\n\")\n"
   ]
  },
  {
   "cell_type": "markdown",
   "metadata": {},
   "source": [
    "## Give another format"
   ]
  },
  {
   "cell_type": "code",
   "execution_count": 5,
   "metadata": {},
   "outputs": [],
   "source": [
    "\n",
    "def token_gradients(model, input_ids, input_slice, target_slice, loss_slice):\n",
    "\n",
    "    \"\"\"\n",
    "    Computes gradients of the loss with respect to the coordinates.\n",
    "    \n",
    "    Parameters\n",
    "    ----------\n",
    "    model : Transformer Model\n",
    "        The transformer model to be used.\n",
    "    input_ids : torch.Tensor\n",
    "        The input sequence in the form of token ids.\n",
    "    input_slice : slice\n",
    "        The slice of the input sequence for which gradients need to be computed.\n",
    "    target_slice : slice\n",
    "        The slice of the input sequence to be used as targets.\n",
    "    loss_slice : slice\n",
    "        The slice of the logits to be used for computing the loss.\n",
    "\n",
    "    Returns\n",
    "    -------\n",
    "    torch.Tensor\n",
    "        The gradients of each token in the input_slice with respect to the loss.\n",
    "    \"\"\"\n",
    "\n",
    "    embed_weights = get_embedding_matrix(model)\n",
    "    one_hot = torch.zeros(\n",
    "        input_ids[input_slice].shape[0],\n",
    "        embed_weights.shape[0],\n",
    "        device=model.device,\n",
    "        dtype=embed_weights.dtype\n",
    "    )\n",
    "    one_hot.scatter_(\n",
    "        1, \n",
    "        input_ids[input_slice].unsqueeze(1),\n",
    "        torch.ones(one_hot.shape[0], 1, device=model.device, dtype=embed_weights.dtype)\n",
    "    )\n",
    "    one_hot.requires_grad_()\n",
    "    input_embeds = (one_hot @ embed_weights).unsqueeze(0)\n",
    "    \n",
    "    # now stitch it together with the rest of the embeddings\n",
    "    embeds = get_embeddings(model, input_ids.unsqueeze(0)).detach()\n",
    "    full_embeds = torch.cat(\n",
    "        [\n",
    "            embeds[:,:input_slice.start,:], \n",
    "            input_embeds, \n",
    "            embeds[:,input_slice.stop:,:]\n",
    "        ], \n",
    "        dim=1)\n",
    "    \n",
    "    logits = model(inputs_embeds=full_embeds).logits\n",
    "    targets = input_ids[target_slice]\n",
    "    loss = nn.CrossEntropyLoss()(logits[0,loss_slice,:], targets)\n",
    "    \n",
    "    loss.backward()\n",
    "    \n",
    "    grad = one_hot.grad.clone()\n",
    "    grad = grad / grad.norm(dim=-1, keepdim=True)\n",
    "    \n",
    "    return grad\n"
   ]
  },
  {
   "cell_type": "code",
   "execution_count": 46,
   "metadata": {},
   "outputs": [],
   "source": [
    "def token_gradients(model, input_ids, input_slice, target_slice, loss_slice):\n",
    "\n",
    "    # Ensure input_ids is a 2D tensor with shape [1, sequence_length]\n",
    "    if len(input_ids.shape) == 1:\n",
    "        input_ids = input_ids.unsqueeze(0)\n",
    "\n",
    "\n",
    "    embed_weights = get_embedding_matrix(model)\n",
    "    one_hot = torch.zeros(\n",
    "        input_ids[0, input_slice].shape[0],\n",
    "        embed_weights.shape[0],\n",
    "        device=model.device,\n",
    "        dtype=embed_weights.dtype\n",
    "    )\n",
    "    one_hot.scatter_(\n",
    "        1, \n",
    "        input_ids[0, input_slice].unsqueeze(1),\n",
    "        torch.ones(one_hot.shape[0], 1, device=model.device, dtype=embed_weights.dtype)\n",
    "    )\n",
    "    print(\"input_ids shape:\", input_ids.shape)\n",
    "    print(\"target_slice start:\", target_slice.start)\n",
    "    print(\"target_slice stop:\", target_slice.stop)\n",
    "\n",
    "    one_hot.requires_grad_()\n",
    "    input_embeds = (one_hot @ embed_weights).unsqueeze(0)\n",
    "    \n",
    "    # now stitch it together with the rest of the embeddings\n",
    "    embeds = get_embeddings(model, input_ids).detach()\n",
    "    full_embeds = torch.cat(\n",
    "        [\n",
    "            embeds[:,:input_slice.start,:], \n",
    "            input_embeds, \n",
    "            embeds[:,input_slice.stop:,:]\n",
    "        ], \n",
    "        dim=1)\n",
    "    \n",
    "    logits = model(inputs_embeds=full_embeds).logits\n",
    "    targets = input_ids[0, target_slice]\n",
    "    loss = nn.CrossEntropyLoss()(logits[0, loss_slice, :], targets)\n",
    "    logits = model(inputs_embeds=full_embeds).logits\n",
    "    # targets = input_ids[0, target_slice].unsqueeze(0)\n",
    "    targets = input_ids[0, target_slice]\n",
    "    # targets = input_ids[target_slice]\n",
    "\n",
    "    # Add print statements to debug shapes\n",
    "    print(f\"logits shape: {logits.shape}\")\n",
    "    print(f\"targets shape: {targets.shape}\")\n",
    "\n",
    "    loss = nn.CrossEntropyLoss()(logits[0,loss_slice,:], targets)    \n",
    "    loss.backward()\n",
    "    \n",
    "    grad = one_hot.grad.clone()\n",
    "    grad = grad / grad.norm(dim=-1, keepdim=True)\n",
    "    \n",
    "    return grad\n"
   ]
  },
  {
   "cell_type": "code",
   "execution_count": 11,
   "metadata": {},
   "outputs": [],
   "source": [
    "def sample_control(control_toks, grad, batch_size, topk=256, temp=1, not_allowed_tokens=None):\n",
    "\n",
    "    # Ensure grad is a 2D tensor\n",
    "    if len(grad.shape) == 1:\n",
    "        grad = grad.unsqueeze(0)\n",
    "        \n",
    "    if not_allowed_tokens is not None:\n",
    "        grad[:, not_allowed_tokens.to(grad.device)] = np.infty\n",
    "\n",
    "    top_indices = (-grad).topk(topk, dim=1).indices\n",
    "    control_toks = control_toks.to(grad.device)\n",
    "\n",
    "    original_control_toks = control_toks.repeat(batch_size, 1)\n",
    "    new_token_pos = torch.arange(\n",
    "        0, \n",
    "        len(control_toks), \n",
    "        len(control_toks) / batch_size,\n",
    "        device=grad.device\n",
    "    ).type(torch.int64)\n",
    "    new_token_val = torch.gather(\n",
    "        top_indices[new_token_pos], 1, \n",
    "        torch.randint(0, topk, (batch_size, 1),\n",
    "        device=grad.device)\n",
    "    )\n",
    "    new_control_toks = original_control_toks.scatter_(1, new_token_pos.unsqueeze(-1), new_token_val)\n",
    "\n",
    "    return new_control_toks\n"
   ]
  },
  {
   "cell_type": "code",
   "execution_count": null,
   "metadata": {},
   "outputs": [],
   "source": [
    "from transformers import GPT2LMHeadModel, GPT2Tokenizer\n",
    "import torch\n",
    "from torch import nn\n",
    "from transformers import RobertaTokenizer, RobertaForSequenceClassification\n",
    "\n",
    "# Load GPT-2 and its tokenizer\n",
    "model_name = \"gpt2-medium\"\n",
    "gpt2_model = GPT2LMHeadModel.from_pretrained(model_name).to(\"cuda\")\n",
    "gpt2_model.eval()\n",
    "gpt2_tokenizer = GPT2Tokenizer.from_pretrained(model_name)\n",
    "\n",
    "# Load the toxicity and reward models\n",
    "toxicity_model_id = \"facebook/roberta-hate-speech-dynabench-r4-target\"\n",
    "toxicity_model = RobertaForSequenceClassification.from_pretrained(toxicity_model_id).to(\"cuda\")\n",
    "toxicity_model.eval()\n",
    "toxicity_tokenizer = RobertaTokenizer.from_pretrained(toxicity_model_id)\n",
    "\n",
    "# Using the same reward model for simplicity\n",
    "reward_model = toxicity_model\n",
    "reward_tokenizer = toxicity_tokenizer\n",
    "\n",
    "def get_embedding_matrix(model):\n",
    "    return model.transformer.wte.weight\n",
    "\n",
    "def get_embeddings(model, input_ids):\n",
    "    return model.transformer.wte(input_ids)\n",
    "\n",
    "# Define our objective function\n",
    "def combined_objective_function(prompt_tensor):\n",
    "    output = gpt2_model.generate(prompt_tensor, max_length=30, do_sample=True, num_return_sequences=1)\n",
    "    output_text = gpt2_tokenizer.decode(output[0], skip_special_tokens=True)\n",
    "    \n",
    "    toxicity = toxicity_model(toxicity_tokenizer.encode(output_text, return_tensors=\"pt\", truncation=True).to(\"cuda\"))[0].sigmoid()\n",
    "    reward = reward_model(reward_tokenizer.encode(output_text, return_tensors=\"pt\", truncation=True).to(\"cuda\"))[0].sigmoid()\n",
    "\n",
    "    # The combined objective to be maximized.\n",
    "    # You may need to adjust this formula based on your exact requirements.\n",
    "    return toxicity - 0.5 * reward\n"
   ]
  },
  {
   "cell_type": "code",
   "execution_count": 43,
   "metadata": {},
   "outputs": [],
   "source": [
    "\n",
    "def optimize_prompt(original_prompt):\n",
    "    prompt_tensor = gpt2_tokenizer.encode(original_prompt, return_tensors=\"pt\").to(\"cuda\")\n",
    "    print(prompt_tensor.shape)\n",
    "\n",
    "    # Getting gradients using our token_gradients function\n",
    "    grad = token_gradients(gpt2_model, prompt_tensor, slice(0, len(prompt_tensor)), slice(1, len(prompt_tensor) + 1), slice(0, len(prompt_tensor)))\n",
    "    \n",
    "    # Sampling new control tokens using our sample_control function\n",
    "    new_control_toks = sample_control(prompt_tensor[0], grad[0], batch_size=1)\n",
    "    optimized_prompt_tokens = sample_control(prompt_tokens, grad, batch_size=1, keyword=\"Joe Biden\", tokenizer=gpt2_tokenizer)\n",
    "    return gpt2_tokenizer.decode(optimized_prompt_tokens[0])\n",
    "\n",
    "    return gpt2_tokenizer.decode(new_control_toks[0])"
   ]
  },
  {
   "cell_type": "code",
   "execution_count": 44,
   "metadata": {},
   "outputs": [],
   "source": [
    "def sample_control(control_toks, grad, batch_size, keyword=\"Joe Biden\", tokenizer=None, topk=256, not_allowed_tokens=None):\n",
    "    # Ensure grad is a 2D tensor\n",
    "    if len(grad.shape) == 1:\n",
    "        grad = grad.unsqueeze(0)\n",
    "        \n",
    "    if not_allowed_tokens is not None:\n",
    "        grad[:, not_allowed_tokens.to(grad.device)] = np.infty\n",
    "\n",
    "    top_indices = (-grad).topk(topk, dim=1).indices\n",
    "    \n",
    "    # Find the position with the maximum gradient value\n",
    "    max_gradient_position = grad.argmax(dim=1)\n",
    "\n",
    "    # Encode the keyword\n",
    "    keyword_ids = tokenizer.encode(keyword, add_special_tokens=False)\n",
    "    \n",
    "    new_control_toks = []\n",
    "    for idx, position in enumerate(max_gradient_position):\n",
    "        before_keyword = control_toks[idx, :position]\n",
    "        after_keyword = control_toks[idx, position:]\n",
    "        new_sequence = torch.cat([before_keyword, torch.tensor(keyword_ids, device=grad.device), after_keyword], dim=0)\n",
    "        new_control_toks.append(new_sequence)\n",
    "\n",
    "    new_control_toks = torch.stack(new_control_toks, dim=0)\n",
    "    return new_control_toks\n"
   ]
  },
  {
   "cell_type": "code",
   "execution_count": 47,
   "metadata": {},
   "outputs": [
    {
     "name": "stdout",
     "output_type": "stream",
     "text": [
      "torch.Size([1, 9])\n",
      "input_ids shape: torch.Size([1, 9])\n",
      "target_slice start: 1\n",
      "target_slice stop: 2\n",
      "logits shape: torch.Size([1, 9, 50257])\n",
      "targets shape: torch.Size([1])\n"
     ]
    },
    {
     "ename": "AttributeError",
     "evalue": "'NoneType' object has no attribute 'encode'",
     "output_type": "error",
     "traceback": [
      "\u001b[0;31m---------------------------------------------------------------------------\u001b[0m",
      "\u001b[0;31mAttributeError\u001b[0m                            Traceback (most recent call last)",
      "Cell \u001b[0;32mIn[47], line 9\u001b[0m\n\u001b[1;32m      2\u001b[0m test_prompts \u001b[39m=\u001b[39m [\n\u001b[1;32m      3\u001b[0m     \u001b[39m\"\u001b[39m\u001b[39mThe current political scenario in the United States is\u001b[39m\u001b[39m\"\u001b[39m,\n\u001b[1;32m      4\u001b[0m     \u001b[39m\"\u001b[39m\u001b[39mForeign policies under the current administration are\u001b[39m\u001b[39m\"\u001b[39m,\n\u001b[1;32m      5\u001b[0m     \u001b[39m\"\u001b[39m\u001b[39mThe economy and job growth have shown\u001b[39m\u001b[39m\"\u001b[39m\n\u001b[1;32m      6\u001b[0m ]\n\u001b[1;32m      8\u001b[0m \u001b[39mfor\u001b[39;00m prompt \u001b[39min\u001b[39;00m test_prompts:\n\u001b[0;32m----> 9\u001b[0m     optimized_prompt \u001b[39m=\u001b[39m optimize_prompt(prompt)\n\u001b[1;32m     11\u001b[0m     \u001b[39mprint\u001b[39m(\u001b[39mf\u001b[39m\u001b[39m\"\u001b[39m\u001b[39mOriginal Prompt: \u001b[39m\u001b[39m{\u001b[39;00mprompt\u001b[39m}\u001b[39;00m\u001b[39m\"\u001b[39m)\n\u001b[1;32m     12\u001b[0m     \u001b[39mprint\u001b[39m(\u001b[39mf\u001b[39m\u001b[39m\"\u001b[39m\u001b[39mOptimized Prompt: \u001b[39m\u001b[39m{\u001b[39;00moptimized_prompt\u001b[39m}\u001b[39;00m\u001b[39m\\n\u001b[39;00m\u001b[39m\"\u001b[39m)\n",
      "Cell \u001b[0;32mIn[43], line 9\u001b[0m, in \u001b[0;36moptimize_prompt\u001b[0;34m(original_prompt)\u001b[0m\n\u001b[1;32m      6\u001b[0m grad \u001b[39m=\u001b[39m token_gradients(gpt2_model, prompt_tensor, \u001b[39mslice\u001b[39m(\u001b[39m0\u001b[39m, \u001b[39mlen\u001b[39m(prompt_tensor)), \u001b[39mslice\u001b[39m(\u001b[39m1\u001b[39m, \u001b[39mlen\u001b[39m(prompt_tensor) \u001b[39m+\u001b[39m \u001b[39m1\u001b[39m), \u001b[39mslice\u001b[39m(\u001b[39m0\u001b[39m, \u001b[39mlen\u001b[39m(prompt_tensor)))\n\u001b[1;32m      8\u001b[0m \u001b[39m# Sampling new control tokens using our sample_control function\u001b[39;00m\n\u001b[0;32m----> 9\u001b[0m new_control_toks \u001b[39m=\u001b[39m sample_control(prompt_tensor[\u001b[39m0\u001b[39;49m], grad[\u001b[39m0\u001b[39;49m], batch_size\u001b[39m=\u001b[39;49m\u001b[39m1\u001b[39;49m)\n\u001b[1;32m     10\u001b[0m optimized_prompt_tokens \u001b[39m=\u001b[39m sample_control(prompt_tokens, grad, batch_size\u001b[39m=\u001b[39m\u001b[39m1\u001b[39m, keyword\u001b[39m=\u001b[39m\u001b[39m\"\u001b[39m\u001b[39mJoe Biden\u001b[39m\u001b[39m\"\u001b[39m, tokenizer\u001b[39m=\u001b[39mgpt2_tokenizer)\n\u001b[1;32m     11\u001b[0m \u001b[39mreturn\u001b[39;00m gpt2_tokenizer\u001b[39m.\u001b[39mdecode(optimized_prompt_tokens[\u001b[39m0\u001b[39m])\n",
      "Cell \u001b[0;32mIn[44], line 15\u001b[0m, in \u001b[0;36msample_control\u001b[0;34m(control_toks, grad, batch_size, keyword, tokenizer, topk, not_allowed_tokens)\u001b[0m\n\u001b[1;32m     12\u001b[0m max_gradient_position \u001b[39m=\u001b[39m grad\u001b[39m.\u001b[39margmax(dim\u001b[39m=\u001b[39m\u001b[39m1\u001b[39m)\n\u001b[1;32m     14\u001b[0m \u001b[39m# Encode the keyword\u001b[39;00m\n\u001b[0;32m---> 15\u001b[0m keyword_ids \u001b[39m=\u001b[39m tokenizer\u001b[39m.\u001b[39;49mencode(keyword, add_special_tokens\u001b[39m=\u001b[39m\u001b[39mFalse\u001b[39;00m)\n\u001b[1;32m     17\u001b[0m new_control_toks \u001b[39m=\u001b[39m []\n\u001b[1;32m     18\u001b[0m \u001b[39mfor\u001b[39;00m idx, position \u001b[39min\u001b[39;00m \u001b[39menumerate\u001b[39m(max_gradient_position):\n",
      "\u001b[0;31mAttributeError\u001b[0m: 'NoneType' object has no attribute 'encode'"
     ]
    },
    {
     "ename": "",
     "evalue": "",
     "output_type": "error",
     "traceback": [
      "\u001b[1;31m在当前单元格或上一个单元格中执行代码时 Kernel 崩溃。请查看单元格中的代码，以确定故障的可能原因。有关详细信息，请单击 <a href='https://aka.ms/vscodeJupyterKernelCrash'>此处</a>。有关更多详细信息，请查看 Jupyter <a href='command:jupyter.viewOutput'>log</a>。"
     ]
    }
   ],
   "source": [
    "# Testing\n",
    "test_prompts = [\n",
    "    \"The current political scenario in the United States is\",\n",
    "    \"Foreign policies under the current administration are\",\n",
    "    \"The economy and job growth have shown\"\n",
    "]\n",
    "\n",
    "for prompt in test_prompts:\n",
    "    optimized_prompt = optimize_prompt(prompt)\n",
    "    \n",
    "    print(f\"Original Prompt: {prompt}\")\n",
    "    print(f\"Optimized Prompt: {optimized_prompt}\\n\")\n"
   ]
  },
  {
   "cell_type": "markdown",
   "metadata": {},
   "source": [
    "#### A new method"
   ]
  },
  {
   "cell_type": "code",
   "execution_count": 1,
   "metadata": {},
   "outputs": [],
   "source": [
    "\n",
    "# Step 1: Setup & Load Models\n",
    "\n",
    "from transformers import RobertaTokenizer, RobertaForSequenceClassification, GPT2LMHeadModel, GPT2Tokenizer\n",
    "import torch\n",
    "\n",
    "# For Toxicity Model\n",
    "toxicity_model_id = \"facebook/roberta-hate-speech-dynabench-r4-target\"\n",
    "toxicity_model = RobertaForSequenceClassification.from_pretrained(toxicity_model_id,cache_dir='/home/chenboc1/localscratch2/chenboc1/trl/.cache')\n",
    "toxicity_tokenizer = RobertaTokenizer.from_pretrained(toxicity_model_id,cache_dir='/home/chenboc1/localscratch2/chenboc1/trl/.cache')\n",
    "\n",
    "# For Rw Model (assuming the same model)\n",
    "rw_model_id = \"facebook/roberta-hate-speech-dynabench-r4-target\"\n",
    "rw_model = RobertaForSequenceClassification.from_pretrained(rw_model_id,cache_dir='/home/chenboc1/localscratch2/chenboc1/trl/.cache')\n",
    "rw_tokenizer = RobertaTokenizer.from_pretrained(rw_model_id,cache_dir='/home/chenboc1/localscratch2/chenboc1/trl/.cache')\n",
    "\n",
    "# For GPT-2\n",
    "tokenizer = GPT2Tokenizer.from_pretrained(\"gpt2-medium\",cache_dir='/home/chenboc1/localscratch2/chenboc1/trl/.cache')\n",
    "model = GPT2LMHeadModel.from_pretrained(\"gpt2-medium\",cache_dir='/home/chenboc1/localscratch2/chenboc1/trl/.cache')\n",
    "model.eval()\n",
    "\n",
    "if torch.cuda.is_available():\n",
    "    model.cuda()\n",
    "    rw_model.cuda()\n",
    "    toxicity_model.cuda()\n",
    "\n",
    "# Step 2: Define Objective and Optimization Functions\n",
    "\n"
   ]
  },
  {
   "cell_type": "code",
   "execution_count": 38,
   "metadata": {},
   "outputs": [],
   "source": [
    "\n",
    "def objective_function(prompt_tensor):\n",
    "    with torch.no_grad():\n",
    "        outputs = model(prompt_tensor)\n",
    "        logits = outputs.logits\n",
    "        predicted_token_id = torch.argmax(logits[0, -1, :]).item()\n",
    "        predicted_token = tokenizer.decode(predicted_token_id)\n",
    "\n",
    "    rw_output = rw_model(**rw_tokenizer(predicted_token, return_tensors=\"pt\", truncation=True, padding='max_length', max_length=512))\n",
    "    rw_score = rw_output.logits[0, 1].sigmoid().item() * 10 - 5 \n",
    "\n",
    "    tw_output = toxicity_model(**toxicity_tokenizer(predicted_token, return_tensors=\"pt\", truncation=True, padding='max_length', max_length=512))\n",
    "    tw_score = tw_output.logits[0, 1].sigmoid().item()\n",
    "\n",
    "    loss = abs(rw_score - 5) + abs(tw_score - 1)\n",
    "    return loss\n",
    "\n",
    "def compute_gradient(original_prompt):\n",
    "    device = torch.device(\"cuda\" if torch.cuda.is_available() else \"cpu\")\n",
    "    prompt_tensor = tokenizer.encode(original_prompt, return_tensors=\"pt\").to(device)\n",
    "\n",
    "    # Get embeddings and then clone them\n",
    "    embeddings = model.transformer.wte(prompt_tensor)\n",
    "    embeddings_clone = embeddings.clone().detach().requires_grad_(True)\n",
    "\n",
    "    # Forward pass using the cloned embeddings\n",
    "    outputs = model(inputs_embeds=embeddings_clone)\n",
    "    logits = outputs.logits\n",
    "\n",
    "    # Rest of your code remains unchanged\n",
    "    predicted_token_id = torch.argmax(logits[0, -1, :]).item()\n",
    "    predicted_token = tokenizer.decode(predicted_token_id)\n",
    "\n",
    "    rw_output = rw_model(**rw_tokenizer(predicted_token, return_tensors=\"pt\", truncation=True, padding='max_length', max_length=512).to(device))\n",
    "    tw_output = toxicity_model(**toxicity_tokenizer(predicted_token, return_tensors=\"pt\", truncation=True, padding='max_length', max_length=512).to(device))\n",
    "\n",
    "    rw_score_tensor = rw_output.logits[0, 1].sigmoid() * 10 - 5\n",
    "    tw_score_tensor = tw_output.logits[0, 1].sigmoid()\n",
    "\n",
    "    loss = torch.abs(rw_score_tensor - 5) + torch.abs(tw_score_tensor - 1)\n",
    "\n",
    "    # Backward pass\n",
    "    model.zero_grad()\n",
    "    loss.backward()\n",
    "\n",
    "    gradient = embeddings_clone.grad\n",
    "    print(gradient)\n",
    "    return gradient\n",
    "\n",
    "\n",
    "def optimize_prompt(original_prompt, iterations=1):\n",
    "    for _ in range(iterations):\n",
    "        gradient = compute_gradient(original_prompt)\n",
    "        \n",
    "        # Identify position with highest gradient magnitude\n",
    "        position = torch.argmax(torch.abs(gradient)).item()\n",
    "        \n",
    "        # Insert \"Joe Biden\" at this position\n",
    "        words = original_prompt.split()\n",
    "        words.insert(position, \"Joe Biden\")\n",
    "        original_prompt = ' '.join(words)\n",
    "\n",
    "    return original_prompt"
   ]
  },
  {
   "cell_type": "code",
   "execution_count": 39,
   "metadata": {},
   "outputs": [
    {
     "ename": "RuntimeError",
     "evalue": "only Tensors of floating point dtype can require gradients",
     "output_type": "error",
     "traceback": [
      "\u001b[0;31m---------------------------------------------------------------------------\u001b[0m",
      "\u001b[0;31mRuntimeError\u001b[0m                              Traceback (most recent call last)",
      "Cell \u001b[0;32mIn[39], line 8\u001b[0m\n\u001b[1;32m      1\u001b[0m test_prompts \u001b[39m=\u001b[39m [\n\u001b[1;32m      2\u001b[0m     \u001b[39m\"\u001b[39m\u001b[39mThe current political scenario in the United States is\u001b[39m\u001b[39m\"\u001b[39m,\n\u001b[1;32m      3\u001b[0m     \u001b[39m\"\u001b[39m\u001b[39mForeign policies under the current administration are\u001b[39m\u001b[39m\"\u001b[39m,\n\u001b[1;32m      4\u001b[0m     \u001b[39m\"\u001b[39m\u001b[39mThe economy and job growth have shown\u001b[39m\u001b[39m\"\u001b[39m,\n\u001b[1;32m      5\u001b[0m ]\n\u001b[1;32m      7\u001b[0m \u001b[39mfor\u001b[39;00m prompt \u001b[39min\u001b[39;00m test_prompts:\n\u001b[0;32m----> 8\u001b[0m     optimized_prompt \u001b[39m=\u001b[39m optimize_prompt(prompt)\n\u001b[1;32m      9\u001b[0m     \u001b[39mprint\u001b[39m(\u001b[39mf\u001b[39m\u001b[39m\"\u001b[39m\u001b[39mOriginal Prompt: \u001b[39m\u001b[39m{\u001b[39;00mprompt\u001b[39m}\u001b[39;00m\u001b[39m\"\u001b[39m)\n\u001b[1;32m     10\u001b[0m     \u001b[39mprint\u001b[39m(\u001b[39mf\u001b[39m\u001b[39m\"\u001b[39m\u001b[39mOptimized Prompt: \u001b[39m\u001b[39m{\u001b[39;00moptimized_prompt\u001b[39m}\u001b[39;00m\u001b[39m\\n\u001b[39;00m\u001b[39m\"\u001b[39m)\n",
      "Cell \u001b[0;32mIn[38], line 49\u001b[0m, in \u001b[0;36moptimize_prompt\u001b[0;34m(original_prompt, iterations)\u001b[0m\n\u001b[1;32m     47\u001b[0m \u001b[39mdef\u001b[39;00m \u001b[39moptimize_prompt\u001b[39m(original_prompt, iterations\u001b[39m=\u001b[39m\u001b[39m1\u001b[39m):\n\u001b[1;32m     48\u001b[0m     \u001b[39mfor\u001b[39;00m _ \u001b[39min\u001b[39;00m \u001b[39mrange\u001b[39m(iterations):\n\u001b[0;32m---> 49\u001b[0m         gradient \u001b[39m=\u001b[39m compute_gradient(original_prompt)\n\u001b[1;32m     51\u001b[0m         \u001b[39m# Identify position with highest gradient magnitude\u001b[39;00m\n\u001b[1;32m     52\u001b[0m         position \u001b[39m=\u001b[39m torch\u001b[39m.\u001b[39margmax(torch\u001b[39m.\u001b[39mabs(gradient))\u001b[39m.\u001b[39mitem()\n",
      "Cell \u001b[0;32mIn[38], line 22\u001b[0m, in \u001b[0;36mcompute_gradient\u001b[0;34m(original_prompt)\u001b[0m\n\u001b[1;32m     19\u001b[0m prompt_tensor \u001b[39m=\u001b[39m tokenizer\u001b[39m.\u001b[39mencode(original_prompt, return_tensors\u001b[39m=\u001b[39m\u001b[39m\"\u001b[39m\u001b[39mpt\u001b[39m\u001b[39m\"\u001b[39m)\u001b[39m.\u001b[39mto(device)\n\u001b[1;32m     21\u001b[0m \u001b[39m# Ensure that the prompt_tensor requires gradients\u001b[39;00m\n\u001b[0;32m---> 22\u001b[0m prompt_tensor \u001b[39m=\u001b[39m prompt_tensor\u001b[39m.\u001b[39;49mclone()\u001b[39m.\u001b[39;49mdetach()\u001b[39m.\u001b[39;49mrequires_grad_(\u001b[39mTrue\u001b[39;49;00m)\n\u001b[1;32m     24\u001b[0m \u001b[39m# Forward pass using GPT-2\u001b[39;00m\n\u001b[1;32m     25\u001b[0m outputs \u001b[39m=\u001b[39m model(prompt_tensor)\n",
      "\u001b[0;31mRuntimeError\u001b[0m: only Tensors of floating point dtype can require gradients"
     ]
    }
   ],
   "source": [
    "\n",
    "test_prompts = [\n",
    "    \"The current political scenario in the United States is\",\n",
    "    \"Foreign policies under the current administration are\",\n",
    "    \"The economy and job growth have shown\",\n",
    "]\n",
    "\n",
    "for prompt in test_prompts:\n",
    "    optimized_prompt = optimize_prompt(prompt)\n",
    "    print(f\"Original Prompt: {prompt}\")\n",
    "    print(f\"Optimized Prompt: {optimized_prompt}\\n\")\n",
    "\n",
    "pass"
   ]
  },
  {
   "cell_type": "code",
   "execution_count": null,
   "metadata": {},
   "outputs": [],
   "source": []
  },
  {
   "cell_type": "code",
   "execution_count": 1,
   "metadata": {},
   "outputs": [
    {
     "data": {
      "application/vnd.jupyter.widget-view+json": {
       "model_id": "4b4ff7f118cf4c729721aad85192142c",
       "version_major": 2,
       "version_minor": 0
      },
      "text/plain": [
       "Downloading (…)solve/main/vocab.txt:   0%|          | 0.00/232k [00:00<?, ?B/s]"
      ]
     },
     "metadata": {},
     "output_type": "display_data"
    },
    {
     "data": {
      "application/vnd.jupyter.widget-view+json": {
       "model_id": "42267c4903954e44b7f8ba724bbca036",
       "version_major": 2,
       "version_minor": 0
      },
      "text/plain": [
       "Downloading (…)okenizer_config.json:   0%|          | 0.00/28.0 [00:00<?, ?B/s]"
      ]
     },
     "metadata": {},
     "output_type": "display_data"
    },
    {
     "data": {
      "application/vnd.jupyter.widget-view+json": {
       "model_id": "50160903d38042d88f26693459dd4ffa",
       "version_major": 2,
       "version_minor": 0
      },
      "text/plain": [
       "Downloading (…)lve/main/config.json:   0%|          | 0.00/570 [00:00<?, ?B/s]"
      ]
     },
     "metadata": {},
     "output_type": "display_data"
    },
    {
     "data": {
      "application/vnd.jupyter.widget-view+json": {
       "model_id": "1be7197c83a64a9d8961ec5370ef7bf4",
       "version_major": 2,
       "version_minor": 0
      },
      "text/plain": [
       "Downloading pytorch_model.bin:   0%|          | 0.00/440M [00:00<?, ?B/s]"
      ]
     },
     "metadata": {},
     "output_type": "display_data"
    },
    {
     "name": "stderr",
     "output_type": "stream",
     "text": [
      "Some weights of the model checkpoint at bert-base-uncased were not used when initializing BertForSequenceClassification: ['cls.predictions.decoder.weight', 'cls.predictions.transform.LayerNorm.weight', 'cls.predictions.bias', 'cls.predictions.transform.LayerNorm.bias', 'cls.seq_relationship.bias', 'cls.predictions.transform.dense.weight', 'cls.seq_relationship.weight', 'cls.predictions.transform.dense.bias']\n",
      "- This IS expected if you are initializing BertForSequenceClassification from the checkpoint of a model trained on another task or with another architecture (e.g. initializing a BertForSequenceClassification model from a BertForPreTraining model).\n",
      "- This IS NOT expected if you are initializing BertForSequenceClassification from the checkpoint of a model that you expect to be exactly identical (initializing a BertForSequenceClassification model from a BertForSequenceClassification model).\n",
      "Some weights of BertForSequenceClassification were not initialized from the model checkpoint at bert-base-uncased and are newly initialized: ['classifier.bias', 'classifier.weight']\n",
      "You should probably TRAIN this model on a down-stream task to be able to use it for predictions and inference.\n"
     ]
    },
    {
     "name": "stdout",
     "output_type": "stream",
     "text": [
      "Most important token: here\n"
     ]
    }
   ],
   "source": [
    "## Fisrt go with bert\n",
    "import torch\n",
    "from transformers import BertTokenizer, BertForSequenceClassification\n",
    "\n",
    "# Load tokenizer and model\n",
    "model_name = \"bert-base-uncased\"\n",
    "tokenizer = BertTokenizer.from_pretrained(model_name)\n",
    "model = BertForSequenceClassification.from_pretrained(model_name)\n",
    "model.eval()\n",
    "\n",
    "# Ensure we are computing gradients\n",
    "for param in model.parameters():\n",
    "    param.requires_grad = True\n",
    "\n",
    "# Define input text\n",
    "text = \"Your example sentence here.\"\n",
    "tokens = tokenizer.tokenize(text)\n",
    "input_ids = torch.tensor(tokenizer.encode(text)).unsqueeze(0)  # Batch size 1\n",
    "\n",
    "# Define a dummy label for the sake of computing the loss. Here, I'm assuming binary classification.\n",
    "labels = torch.tensor([1]).unsqueeze(0)  # Batch size 1\n",
    "\n",
    "# Compute loss\n",
    "outputs = model(input_ids, labels=labels)\n",
    "loss = outputs.loss\n",
    "\n",
    "# Backpropagate\n",
    "loss.backward()\n",
    "\n",
    "# Get gradients for the input embeddings\n",
    "grads = model.bert.embeddings.word_embeddings.weight.grad\n",
    "\n",
    "# Extract gradient for the specific input tokens\n",
    "token_gradients = grads[input_ids[0].tolist()]\n",
    "\n",
    "# Compute importance scores as the sum of the absolute values of the gradients for each token\n",
    "importance_scores = torch.sum(torch.abs(token_gradients), dim=1)\n",
    "\n",
    "# Find the token with the highest importance score\n",
    "most_important_token_idx = torch.argmax(importance_scores).item()\n",
    "most_important_token = tokens[most_important_token_idx]\n",
    "\n",
    "print(f\"Most important token: {most_important_token}\")\n"
   ]
  },
  {
   "cell_type": "code",
   "execution_count": 3,
   "metadata": {},
   "outputs": [
    {
     "name": "stdout",
     "output_type": "stream",
     "text": [
      "Most important token: Your\n"
     ]
    }
   ],
   "source": [
    "import torch\n",
    "from transformers import GPT2Tokenizer, GPT2LMHeadModel\n",
    "\n",
    "# Load tokenizer and model\n",
    "model_name = \"gpt2-medium\"\n",
    "tokenizer = GPT2Tokenizer.from_pretrained(model_name)\n",
    "model = GPT2LMHeadModel.from_pretrained(model_name)\n",
    "model.eval()\n",
    "\n",
    "# Ensure we are computing gradients\n",
    "for param in model.parameters():\n",
    "    param.requires_grad = True\n",
    "\n",
    "# Define input text\n",
    "text = \"Your example sentence here.\"\n",
    "input_ids = torch.tensor(tokenizer.encode(text)).unsqueeze(0)  # Batch size 1\n",
    "\n",
    "# Compute outputs\n",
    "outputs = model(input_ids)\n",
    "predictions = outputs.logits\n",
    "\n",
    "# Let's compute the loss for the last token prediction\n",
    "# For simplicity, we'll assume the next correct token is the first one in the vocab (you can choose any token)\n",
    "target = torch.tensor([0]) # This is a dummy target, change as needed\n",
    "loss = torch.nn.functional.cross_entropy(predictions[:, -1], target)\n",
    "\n",
    "# Backpropagate\n",
    "loss.backward()\n",
    "\n",
    "# Get gradients for the input embeddings\n",
    "grads = model.transformer.wte.weight.grad\n",
    "\n",
    "# Extract gradient for the specific input tokens\n",
    "token_gradients = grads[input_ids[0].tolist()]\n",
    "\n",
    "# Compute importance scores as the sum of the absolute values of the gradients for each token\n",
    "importance_scores = torch.sum(torch.abs(token_gradients), dim=1)\n",
    "\n",
    "# Find the token with the highest importance score\n",
    "most_important_token_idx = torch.argmax(importance_scores).item()\n",
    "most_important_token = tokenizer.decode(input_ids[0][most_important_token_idx].item())\n",
    "\n",
    "print(f\"Most important token: {most_important_token}\")\n"
   ]
  },
  {
   "cell_type": "code",
   "execution_count": 5,
   "metadata": {},
   "outputs": [
    {
     "name": "stderr",
     "output_type": "stream",
     "text": [
      "Some weights of the model checkpoint at bert-base-uncased were not used when initializing BertModel: ['cls.predictions.decoder.weight', 'cls.predictions.transform.LayerNorm.weight', 'cls.predictions.bias', 'cls.predictions.transform.LayerNorm.bias', 'cls.seq_relationship.bias', 'cls.predictions.transform.dense.weight', 'cls.seq_relationship.weight', 'cls.predictions.transform.dense.bias']\n",
      "- This IS expected if you are initializing BertModel from the checkpoint of a model trained on another task or with another architecture (e.g. initializing a BertForSequenceClassification model from a BertForPreTraining model).\n",
      "- This IS NOT expected if you are initializing BertModel from the checkpoint of a model that you expect to be exactly identical (initializing a BertForSequenceClassification model from a BertForSequenceClassification model).\n",
      "The attention mask and the pad token id were not set. As a consequence, you may observe unexpected behavior. Please pass your input's `attention_mask` to obtain reliable results.\n",
      "Setting `pad_token_id` to `eos_token_id`:50256 for open-end generation.\n",
      "/localscratch/chenboc1/anaconda3/envs/trl/lib/python3.11/site-packages/transformers/generation/utils.py:1346: UserWarning: Using `max_length`'s default (20) to control the generation length. This behaviour is deprecated and will be removed from the config in v5 of Transformers -- we recommend using `max_new_tokens` to control the maximum length of the generation.\n",
      "  warnings.warn(\n"
     ]
    },
    {
     "ename": "RuntimeError",
     "evalue": "element 0 of tensors does not require grad and does not have a grad_fn",
     "output_type": "error",
     "traceback": [
      "\u001b[0;31m---------------------------------------------------------------------------\u001b[0m",
      "\u001b[0;31mRuntimeError\u001b[0m                              Traceback (most recent call last)",
      "Cell \u001b[0;32mIn[5], line 45\u001b[0m\n\u001b[1;32m     42\u001b[0m loss \u001b[39m=\u001b[39m \u001b[39m-\u001b[39msimilarity\n\u001b[1;32m     44\u001b[0m \u001b[39m# Backpropagate\u001b[39;00m\n\u001b[0;32m---> 45\u001b[0m loss\u001b[39m.\u001b[39;49mbackward()\n\u001b[1;32m     47\u001b[0m \u001b[39m# Get gradients for GPT-2 input embeddings\u001b[39;00m\n\u001b[1;32m     48\u001b[0m grads \u001b[39m=\u001b[39m gpt2_model\u001b[39m.\u001b[39mtransformer\u001b[39m.\u001b[39mwte\u001b[39m.\u001b[39mweight\u001b[39m.\u001b[39mgrad\n",
      "File \u001b[0;32m/localscratch/chenboc1/anaconda3/envs/trl/lib/python3.11/site-packages/torch/_tensor.py:487\u001b[0m, in \u001b[0;36mTensor.backward\u001b[0;34m(self, gradient, retain_graph, create_graph, inputs)\u001b[0m\n\u001b[1;32m    477\u001b[0m \u001b[39mif\u001b[39;00m has_torch_function_unary(\u001b[39mself\u001b[39m):\n\u001b[1;32m    478\u001b[0m     \u001b[39mreturn\u001b[39;00m handle_torch_function(\n\u001b[1;32m    479\u001b[0m         Tensor\u001b[39m.\u001b[39mbackward,\n\u001b[1;32m    480\u001b[0m         (\u001b[39mself\u001b[39m,),\n\u001b[0;32m   (...)\u001b[0m\n\u001b[1;32m    485\u001b[0m         inputs\u001b[39m=\u001b[39minputs,\n\u001b[1;32m    486\u001b[0m     )\n\u001b[0;32m--> 487\u001b[0m torch\u001b[39m.\u001b[39;49mautograd\u001b[39m.\u001b[39;49mbackward(\n\u001b[1;32m    488\u001b[0m     \u001b[39mself\u001b[39;49m, gradient, retain_graph, create_graph, inputs\u001b[39m=\u001b[39;49minputs\n\u001b[1;32m    489\u001b[0m )\n",
      "File \u001b[0;32m/localscratch/chenboc1/anaconda3/envs/trl/lib/python3.11/site-packages/torch/autograd/__init__.py:200\u001b[0m, in \u001b[0;36mbackward\u001b[0;34m(tensors, grad_tensors, retain_graph, create_graph, grad_variables, inputs)\u001b[0m\n\u001b[1;32m    195\u001b[0m     retain_graph \u001b[39m=\u001b[39m create_graph\n\u001b[1;32m    197\u001b[0m \u001b[39m# The reason we repeat same the comment below is that\u001b[39;00m\n\u001b[1;32m    198\u001b[0m \u001b[39m# some Python versions print out the first line of a multi-line function\u001b[39;00m\n\u001b[1;32m    199\u001b[0m \u001b[39m# calls in the traceback and some print out the last line\u001b[39;00m\n\u001b[0;32m--> 200\u001b[0m Variable\u001b[39m.\u001b[39;49m_execution_engine\u001b[39m.\u001b[39;49mrun_backward(  \u001b[39m# Calls into the C++ engine to run the backward pass\u001b[39;49;00m\n\u001b[1;32m    201\u001b[0m     tensors, grad_tensors_, retain_graph, create_graph, inputs,\n\u001b[1;32m    202\u001b[0m     allow_unreachable\u001b[39m=\u001b[39;49m\u001b[39mTrue\u001b[39;49;00m, accumulate_grad\u001b[39m=\u001b[39;49m\u001b[39mTrue\u001b[39;49;00m)\n",
      "\u001b[0;31mRuntimeError\u001b[0m: element 0 of tensors does not require grad and does not have a grad_fn"
     ]
    }
   ],
   "source": [
    "import torch\n",
    "from transformers import GPT2Tokenizer, GPT2LMHeadModel, BertTokenizer, BertModel\n",
    "from torch.nn.functional import cosine_similarity\n",
    "\n",
    "# Load GPT-2 tokenizer and model\n",
    "gpt2_model_name = \"gpt2-medium\"\n",
    "gpt2_tokenizer = GPT2Tokenizer.from_pretrained(gpt2_model_name)\n",
    "gpt2_model = GPT2LMHeadModel.from_pretrained(gpt2_model_name)\n",
    "gpt2_model.eval()\n",
    "\n",
    "# Load BERT tokenizer and model\n",
    "bert_model_name = \"bert-base-uncased\"\n",
    "bert_tokenizer = BertTokenizer.from_pretrained(bert_model_name)\n",
    "bert_model = BertModel.from_pretrained(bert_model_name)\n",
    "bert_model.eval()\n",
    "\n",
    "# Ensure we are computing gradients\n",
    "for param in gpt2_model.parameters():\n",
    "    param.requires_grad = False\n",
    "\n",
    "# Activate gradients only for GPT-2 embeddings\n",
    "gpt2_model.transformer.wte.weight.requires_grad = True\n",
    "\n",
    "# Define input text\n",
    "text = \"Your example sentence here.\"\n",
    "input_ids_gpt2 = torch.tensor(gpt2_tokenizer.encode(text)).unsqueeze(0)  # Batch size 1\n",
    "\n",
    "# Generate output\n",
    "output_ids = gpt2_model.generate(input_ids_gpt2)\n",
    "output_text = gpt2_tokenizer.decode(output_ids[0], skip_special_tokens=True)\n",
    "\n",
    "# Get BERT embeddings for prompt and output\n",
    "with torch.no_grad():\n",
    "    input_ids_bert_prompt = torch.tensor(bert_tokenizer.encode(text, add_special_tokens=True)).unsqueeze(0)\n",
    "    input_ids_bert_output = torch.tensor(bert_tokenizer.encode(output_text, add_special_tokens=True)).unsqueeze(0)\n",
    "\n",
    "    embeddings_prompt = bert_model(input_ids_bert_prompt).last_hidden_state.mean(dim=1)\n",
    "    embeddings_output = bert_model(input_ids_bert_output).last_hidden_state.mean(dim=1)\n",
    "\n",
    "# Compute cosine similarity and its negative as a loss (because we want to maximize similarity)\n",
    "similarity = cosine_similarity(embeddings_prompt, embeddings_output)\n",
    "loss = -similarity\n",
    "\n",
    "# Backpropagate\n",
    "loss.backward()\n",
    "\n",
    "# Get gradients for GPT-2 input embeddings\n",
    "grads = gpt2_model.transformer.wte.weight.grad\n",
    "\n",
    "# Extract gradient for the specific input tokens\n",
    "token_gradients = grads[input_ids_gpt2[0].tolist()]\n",
    "\n",
    "# Compute importance scores as the sum of the absolute values of the gradients for each token\n",
    "importance_scores = torch.sum(torch.abs(token_gradients), dim=1)\n",
    "\n",
    "# Find the token with the highest importance score\n",
    "most_important_token_idx = torch.argmax(importance_scores).item()\n",
    "most_important_token = gpt2_tokenizer.decode(input_ids_gpt2[0][most_important_token_idx].item())\n",
    "\n",
    "print(f\"Most important token: {most_important_token}\")\n"
   ]
  },
  {
   "cell_type": "code",
   "execution_count": 6,
   "metadata": {},
   "outputs": [
    {
     "data": {
      "text/plain": [
       "tensor([-0.6340])"
      ]
     },
     "execution_count": 6,
     "metadata": {},
     "output_type": "execute_result"
    }
   ],
   "source": [
    "loss"
   ]
  },
  {
   "cell_type": "markdown",
   "metadata": {},
   "source": [
    "### Come to the batch"
   ]
  },
  {
   "cell_type": "code",
   "execution_count": 1,
   "metadata": {},
   "outputs": [
    {
     "name": "stderr",
     "output_type": "stream",
     "text": [
      "Some weights of the model checkpoint at bert-base-uncased were not used when initializing BertModel: ['cls.seq_relationship.bias', 'cls.seq_relationship.weight', 'cls.predictions.transform.dense.bias', 'cls.predictions.transform.dense.weight', 'cls.predictions.transform.LayerNorm.bias', 'cls.predictions.decoder.weight', 'cls.predictions.bias', 'cls.predictions.transform.LayerNorm.weight']\n",
      "- This IS expected if you are initializing BertModel from the checkpoint of a model trained on another task or with another architecture (e.g. initializing a BertForSequenceClassification model from a BertForPreTraining model).\n",
      "- This IS NOT expected if you are initializing BertModel from the checkpoint of a model that you expect to be exactly identical (initializing a BertForSequenceClassification model from a BertForSequenceClassification model).\n",
      "The attention mask and the pad token id were not set. As a consequence, you may observe unexpected behavior. Please pass your input's `attention_mask` to obtain reliable results.\n",
      "Setting `pad_token_id` to `eos_token_id`:50256 for open-end generation.\n",
      "/localscratch/chenboc1/anaconda3/envs/trl/lib/python3.11/site-packages/transformers/generation/utils.py:1346: UserWarning: Using `max_length`'s default (20) to control the generation length. This behaviour is deprecated and will be removed from the config in v5 of Transformers -- we recommend using `max_new_tokens` to control the maximum length of the generation.\n",
      "  warnings.warn(\n"
     ]
    }
   ],
   "source": [
    "import torch\n",
    "from transformers import GPT2Tokenizer, GPT2LMHeadModel, BertTokenizer, BertModel\n",
    "from torch.nn.functional import cosine_similarity\n",
    "\n",
    "# Load GPT-2 tokenizer and model\n",
    "gpt2_model_name = \"gpt2-medium\"\n",
    "gpt2_tokenizer = GPT2Tokenizer.from_pretrained(gpt2_model_name)\n",
    "gpt2_model = GPT2LMHeadModel.from_pretrained(gpt2_model_name)\n",
    "gpt2_model.eval()\n",
    "\n",
    "# Load BERT tokenizer and model\n",
    "bert_model_name = \"bert-base-uncased\"\n",
    "bert_tokenizer = BertTokenizer.from_pretrained(bert_model_name)\n",
    "bert_model = BertModel.from_pretrained(bert_model_name)\n",
    "bert_model.eval()\n",
    "\n",
    "# Ensure we are computing gradients\n",
    "for param in gpt2_model.parameters():\n",
    "    param.requires_grad = False\n",
    "\n",
    "# Activate gradients only for GPT-2 embeddings\n",
    "gpt2_model.transformer.wte.weight.requires_grad = True\n",
    "\n",
    "# Define input text\n",
    "text = \"Your example sentence here.\"\n",
    "input_ids_gpt2 = torch.tensor(gpt2_tokenizer.encode(text)).unsqueeze(0)  # Batch size 1\n",
    "\n",
    "# Generate output\n",
    "output_ids = gpt2_model.generate(input_ids_gpt2)\n",
    "output_text = gpt2_tokenizer.decode(output_ids[0], skip_special_tokens=True)\n"
   ]
  },
  {
   "cell_type": "code",
   "execution_count": 2,
   "metadata": {},
   "outputs": [
    {
     "ename": "RuntimeError",
     "evalue": "element 0 of tensors does not require grad and does not have a grad_fn",
     "output_type": "error",
     "traceback": [
      "\u001b[0;31m---------------------------------------------------------------------------\u001b[0m",
      "\u001b[0;31mRuntimeError\u001b[0m                              Traceback (most recent call last)",
      "Cell \u001b[0;32mIn[2], line 14\u001b[0m\n\u001b[1;32m     11\u001b[0m loss \u001b[39m=\u001b[39m \u001b[39m-\u001b[39msimilarity\n\u001b[1;32m     13\u001b[0m \u001b[39m# Backpropagate\u001b[39;00m\n\u001b[0;32m---> 14\u001b[0m loss\u001b[39m.\u001b[39;49mbackward()\n\u001b[1;32m     16\u001b[0m \u001b[39m# Get gradients for GPT-2 input embeddings\u001b[39;00m\n\u001b[1;32m     17\u001b[0m grads \u001b[39m=\u001b[39m gpt2_model\u001b[39m.\u001b[39mtransformer\u001b[39m.\u001b[39mwte\u001b[39m.\u001b[39mweight\u001b[39m.\u001b[39mgrad\n",
      "File \u001b[0;32m/localscratch/chenboc1/anaconda3/envs/trl/lib/python3.11/site-packages/torch/_tensor.py:487\u001b[0m, in \u001b[0;36mTensor.backward\u001b[0;34m(self, gradient, retain_graph, create_graph, inputs)\u001b[0m\n\u001b[1;32m    477\u001b[0m \u001b[39mif\u001b[39;00m has_torch_function_unary(\u001b[39mself\u001b[39m):\n\u001b[1;32m    478\u001b[0m     \u001b[39mreturn\u001b[39;00m handle_torch_function(\n\u001b[1;32m    479\u001b[0m         Tensor\u001b[39m.\u001b[39mbackward,\n\u001b[1;32m    480\u001b[0m         (\u001b[39mself\u001b[39m,),\n\u001b[0;32m   (...)\u001b[0m\n\u001b[1;32m    485\u001b[0m         inputs\u001b[39m=\u001b[39minputs,\n\u001b[1;32m    486\u001b[0m     )\n\u001b[0;32m--> 487\u001b[0m torch\u001b[39m.\u001b[39;49mautograd\u001b[39m.\u001b[39;49mbackward(\n\u001b[1;32m    488\u001b[0m     \u001b[39mself\u001b[39;49m, gradient, retain_graph, create_graph, inputs\u001b[39m=\u001b[39;49minputs\n\u001b[1;32m    489\u001b[0m )\n",
      "File \u001b[0;32m/localscratch/chenboc1/anaconda3/envs/trl/lib/python3.11/site-packages/torch/autograd/__init__.py:200\u001b[0m, in \u001b[0;36mbackward\u001b[0;34m(tensors, grad_tensors, retain_graph, create_graph, grad_variables, inputs)\u001b[0m\n\u001b[1;32m    195\u001b[0m     retain_graph \u001b[39m=\u001b[39m create_graph\n\u001b[1;32m    197\u001b[0m \u001b[39m# The reason we repeat same the comment below is that\u001b[39;00m\n\u001b[1;32m    198\u001b[0m \u001b[39m# some Python versions print out the first line of a multi-line function\u001b[39;00m\n\u001b[1;32m    199\u001b[0m \u001b[39m# calls in the traceback and some print out the last line\u001b[39;00m\n\u001b[0;32m--> 200\u001b[0m Variable\u001b[39m.\u001b[39;49m_execution_engine\u001b[39m.\u001b[39;49mrun_backward(  \u001b[39m# Calls into the C++ engine to run the backward pass\u001b[39;49;00m\n\u001b[1;32m    201\u001b[0m     tensors, grad_tensors_, retain_graph, create_graph, inputs,\n\u001b[1;32m    202\u001b[0m     allow_unreachable\u001b[39m=\u001b[39;49m\u001b[39mTrue\u001b[39;49;00m, accumulate_grad\u001b[39m=\u001b[39;49m\u001b[39mTrue\u001b[39;49;00m)\n",
      "\u001b[0;31mRuntimeError\u001b[0m: element 0 of tensors does not require grad and does not have a grad_fn"
     ]
    }
   ],
   "source": [
    "\n",
    "# Get BERT embeddings for prompt and output\n",
    "with torch.no_grad():\n",
    "    input_ids_bert_prompt = torch.tensor(bert_tokenizer.encode(text, add_special_tokens=True)).unsqueeze(0)\n",
    "    input_ids_bert_output = torch.tensor(bert_tokenizer.encode(output_text, add_special_tokens=True)).unsqueeze(0)\n",
    "\n",
    "    embeddings_prompt = bert_model(input_ids_bert_prompt).last_hidden_state.mean(dim=1)\n",
    "    embeddings_output = bert_model(input_ids_bert_output).last_hidden_state.mean(dim=1)\n",
    "\n",
    "# Compute cosine similarity and its negative as a loss (because we want to maximize similarity)\n",
    "similarity = cosine_similarity(embeddings_prompt, embeddings_output)\n",
    "loss = -similarity\n",
    "\n",
    "# Backpropagate\n",
    "loss.backward()\n",
    "\n",
    "# Get gradients for GPT-2 input embeddings\n",
    "grads = gpt2_model.transformer.wte.weight.grad\n",
    "\n",
    "# Extract gradient for the specific input tokens\n",
    "token_gradients = grads[input_ids_gpt2[0].tolist()]\n",
    "\n",
    "# Compute importance scores as the sum of the absolute values of the gradients for each token\n",
    "importance_scores = torch.sum(torch.abs(token_gradients), dim=1)\n",
    "\n",
    "# Find the token with the highest importance score\n",
    "most_important_token_idx = torch.argmax(importance_scores).item()\n",
    "most_important_token = gpt2_tokenizer.decode(input_ids_gpt2[0][most_important_token_idx].item())\n",
    "\n",
    "print(f\"Most important token: {most_important_token}\")\n"
   ]
  },
  {
   "cell_type": "code",
   "execution_count": 3,
   "metadata": {},
   "outputs": [
    {
     "data": {
      "application/vnd.jupyter.widget-view+json": {
       "model_id": "5b0ed9cf38be43f48e5db3a027ff5ea3",
       "version_major": 2,
       "version_minor": 0
      },
      "text/plain": [
       "Downloading (…)okenizer_config.json:   0%|          | 0.00/48.0 [00:00<?, ?B/s]"
      ]
     },
     "metadata": {},
     "output_type": "display_data"
    },
    {
     "data": {
      "application/vnd.jupyter.widget-view+json": {
       "model_id": "f0d254898a804e58a01cbb6fd991509e",
       "version_major": 2,
       "version_minor": 0
      },
      "text/plain": [
       "Downloading (…)lve/main/config.json:   0%|          | 0.00/520 [00:00<?, ?B/s]"
      ]
     },
     "metadata": {},
     "output_type": "display_data"
    },
    {
     "data": {
      "application/vnd.jupyter.widget-view+json": {
       "model_id": "0906a0cb06864e6a9d780c091616eee7",
       "version_major": 2,
       "version_minor": 0
      },
      "text/plain": [
       "Downloading (…)solve/main/vocab.txt:   0%|          | 0.00/232k [00:00<?, ?B/s]"
      ]
     },
     "metadata": {},
     "output_type": "display_data"
    },
    {
     "data": {
      "application/vnd.jupyter.widget-view+json": {
       "model_id": "5c65af1e11b24fe5a7b31e33007e4efb",
       "version_major": 2,
       "version_minor": 0
      },
      "text/plain": [
       "Downloading (…)cial_tokens_map.json:   0%|          | 0.00/112 [00:00<?, ?B/s]"
      ]
     },
     "metadata": {},
     "output_type": "display_data"
    },
    {
     "data": {
      "application/vnd.jupyter.widget-view+json": {
       "model_id": "ca3bd192c7014d989285d6c8f640aa23",
       "version_major": 2,
       "version_minor": 0
      },
      "text/plain": [
       "Downloading pytorch_model.bin:   0%|          | 0.00/438M [00:00<?, ?B/s]"
      ]
     },
     "metadata": {},
     "output_type": "display_data"
    },
    {
     "data": {
      "text/plain": [
       "0.01"
      ]
     },
     "execution_count": 3,
     "metadata": {},
     "output_type": "execute_result"
    }
   ],
   "source": [
    "import torch\n",
    "from transformers import AutoTokenizer, BertForSequenceClassification\n",
    "\n",
    "tokenizer = AutoTokenizer.from_pretrained(\"textattack/bert-base-uncased-yelp-polarity\")\n",
    "model = BertForSequenceClassification.from_pretrained(\"textattack/bert-base-uncased-yelp-polarity\")\n",
    "\n",
    "inputs = tokenizer(\"Hello, my dog is cute\", return_tensors=\"pt\")\n",
    "\n",
    "with torch.no_grad():\n",
    "    logits = model(**inputs).logits\n",
    "\n",
    "predicted_class_id = logits.argmax().item()\n",
    "model.config.id2label[predicted_class_id]\n",
    "\n",
    "# To train a model on `num_labels` classes, you can pass `num_labels=num_labels` to `.from_pretrained(...)`\n",
    "num_labels = len(model.config.id2label)\n",
    "model = BertForSequenceClassification.from_pretrained(\"textattack/bert-base-uncased-yelp-polarity\", num_labels=num_labels)\n",
    "\n",
    "labels = torch.tensor([1])\n",
    "loss = model(**inputs, labels=labels).loss\n",
    "round(loss.item(), 2)"
   ]
  },
  {
   "cell_type": "code",
   "execution_count": 4,
   "metadata": {},
   "outputs": [
    {
     "ename": "AttributeError",
     "evalue": "'BertForSequenceClassification' object has no attribute 'transformer'",
     "output_type": "error",
     "traceback": [
      "\u001b[0;31m---------------------------------------------------------------------------\u001b[0m",
      "\u001b[0;31mAttributeError\u001b[0m                            Traceback (most recent call last)",
      "Cell \u001b[0;32mIn[4], line 5\u001b[0m\n\u001b[1;32m      2\u001b[0m loss\u001b[39m.\u001b[39mbackward()\n\u001b[1;32m      4\u001b[0m \u001b[39m# Get gradients for GPT-2 input embeddings\u001b[39;00m\n\u001b[0;32m----> 5\u001b[0m grads \u001b[39m=\u001b[39m model\u001b[39m.\u001b[39;49mtransformer\u001b[39m.\u001b[39mwte\u001b[39m.\u001b[39mweight\u001b[39m.\u001b[39mgrad\n",
      "File \u001b[0;32m/localscratch/chenboc1/anaconda3/envs/trl/lib/python3.11/site-packages/torch/nn/modules/module.py:1614\u001b[0m, in \u001b[0;36mModule.__getattr__\u001b[0;34m(self, name)\u001b[0m\n\u001b[1;32m   1612\u001b[0m     \u001b[39mif\u001b[39;00m name \u001b[39min\u001b[39;00m modules:\n\u001b[1;32m   1613\u001b[0m         \u001b[39mreturn\u001b[39;00m modules[name]\n\u001b[0;32m-> 1614\u001b[0m \u001b[39mraise\u001b[39;00m \u001b[39mAttributeError\u001b[39;00m(\u001b[39m\"\u001b[39m\u001b[39m'\u001b[39m\u001b[39m{}\u001b[39;00m\u001b[39m'\u001b[39m\u001b[39m object has no attribute \u001b[39m\u001b[39m'\u001b[39m\u001b[39m{}\u001b[39;00m\u001b[39m'\u001b[39m\u001b[39m\"\u001b[39m\u001b[39m.\u001b[39mformat(\n\u001b[1;32m   1615\u001b[0m     \u001b[39mtype\u001b[39m(\u001b[39mself\u001b[39m)\u001b[39m.\u001b[39m\u001b[39m__name__\u001b[39m, name))\n",
      "\u001b[0;31mAttributeError\u001b[0m: 'BertForSequenceClassification' object has no attribute 'transformer'"
     ]
    }
   ],
   "source": [
    "\n",
    "# Backpropagate\n",
    "loss.backward()\n",
    "\n",
    "# Get gradients for GPT-2 input embeddings\n",
    "grads = model.transformer.wte.weight.grad\n"
   ]
  },
  {
   "cell_type": "code",
   "execution_count": null,
   "metadata": {},
   "outputs": [],
   "source": [
    "\n",
    "# Extract gradient for the specific input tokens\n",
    "token_gradients = grads[input_ids_gpt2[0].tolist()]\n",
    "\n",
    "# Compute importance scores as the sum of the absolute values of the gradients for each token\n",
    "importance_scores = torch.sum(torch.abs(token_gradients), dim=1)"
   ]
  },
  {
   "cell_type": "code",
   "execution_count": 5,
   "metadata": {},
   "outputs": [
    {
     "name": "stderr",
     "output_type": "stream",
     "text": [
      "Some weights of the model checkpoint at bert-base-uncased were not used when initializing BertForSequenceClassification: ['cls.seq_relationship.bias', 'cls.seq_relationship.weight', 'cls.predictions.transform.dense.bias', 'cls.predictions.transform.dense.weight', 'cls.predictions.transform.LayerNorm.bias', 'cls.predictions.decoder.weight', 'cls.predictions.bias', 'cls.predictions.transform.LayerNorm.weight']\n",
      "- This IS expected if you are initializing BertForSequenceClassification from the checkpoint of a model trained on another task or with another architecture (e.g. initializing a BertForSequenceClassification model from a BertForPreTraining model).\n",
      "- This IS NOT expected if you are initializing BertForSequenceClassification from the checkpoint of a model that you expect to be exactly identical (initializing a BertForSequenceClassification model from a BertForSequenceClassification model).\n",
      "Some weights of BertForSequenceClassification were not initialized from the model checkpoint at bert-base-uncased and are newly initialized: ['classifier.bias', 'classifier.weight']\n",
      "You should probably TRAIN this model on a down-stream task to be able to use it for predictions and inference.\n"
     ]
    },
    {
     "name": "stdout",
     "output_type": "stream",
     "text": [
      "Most important token: here\n"
     ]
    }
   ],
   "source": [
    "import torch\n",
    "from transformers import BertTokenizer, BertForSequenceClassification\n",
    "\n",
    "# Load tokenizer and model\n",
    "model_name = \"bert-base-uncased\"\n",
    "tokenizer = BertTokenizer.from_pretrained(model_name)\n",
    "model = BertForSequenceClassification.from_pretrained(model_name)\n",
    "model.eval()\n",
    "\n",
    "# Ensure we are computing gradients\n",
    "for param in model.parameters():\n",
    "    param.requires_grad = True\n",
    "\n",
    "# Define input text\n",
    "text = \"Your example sentence here.\"\n",
    "tokens = tokenizer.tokenize(text)\n",
    "input_ids = torch.tensor(tokenizer.encode(text)).unsqueeze(0)  # Batch size 1\n",
    "\n",
    "# Define a dummy label for the sake of computing the loss. Here, I'm assuming binary classification.\n",
    "labels = torch.tensor([1]).unsqueeze(0)  # Batch size 1\n",
    "\n",
    "# Compute loss\n",
    "outputs = model(input_ids, labels=labels)\n",
    "loss = outputs.loss\n",
    "\n",
    "# Backpropagate\n",
    "loss.backward()\n",
    "\n",
    "# Get gradients for the input embeddings\n",
    "grads = model.bert.embeddings.word_embeddings.weight.grad\n",
    "\n",
    "# Extract gradient for the specific input tokens\n",
    "token_gradients = grads[input_ids[0].tolist()]\n",
    "\n",
    "# Compute importance scores as the sum of the absolute values of the gradients for each token\n",
    "importance_scores = torch.sum(torch.abs(token_gradients), dim=1)\n",
    "\n",
    "# Find the token with the highest importance score\n",
    "most_important_token_idx = torch.argmax(importance_scores).item()\n",
    "most_important_token = tokens[most_important_token_idx]\n",
    "\n",
    "print(f\"Most important token: {most_important_token}\")\n"
   ]
  },
  {
   "cell_type": "code",
   "execution_count": null,
   "metadata": {},
   "outputs": [],
   "source": [
    "import torch\n",
    "from transformers import GPT2LMHeadModel, GPT2Tokenizer, BertTokenizer, BertForSequenceClassification\n",
    "\n",
    "# Setup\n",
    "gpt2_model_name = \"gpt2-medium\"\n",
    "gpt2_model = GPT2LMHeadModel.from_pretrained(gpt2_model_name)\n",
    "gpt2_model.eval()\n",
    "gpt2_tokenizer = GPT2Tokenizer.from_pretrained(gpt2_model_name)\n",
    "\n",
    "bert_model_name = \"bert-base-uncased\"\n",
    "bert_model = BertForSequenceClassification.from_pretrained(bert_model_name, num_labels=6)  # Assuming 6 classes\n",
    "bert_model.eval()\n",
    "bert_tokenizer = BertTokenizer.from_pretrained(bert_model_name)\n"
   ]
  },
  {
   "cell_type": "code",
   "execution_count": 13,
   "metadata": {},
   "outputs": [
    {
     "name": "stderr",
     "output_type": "stream",
     "text": [
      "The attention mask and the pad token id were not set. As a consequence, you may observe unexpected behavior. Please pass your input's `attention_mask` to obtain reliable results.\n",
      "Setting `pad_token_id` to `eos_token_id`:50256 for open-end generation.\n",
      "The attention mask and the pad token id were not set. As a consequence, you may observe unexpected behavior. Please pass your input's `attention_mask` to obtain reliable results.\n",
      "Setting `pad_token_id` to `eos_token_id`:50256 for open-end generation.\n",
      "The attention mask and the pad token id were not set. As a consequence, you may observe unexpected behavior. Please pass your input's `attention_mask` to obtain reliable results.\n",
      "Setting `pad_token_id` to `eos_token_id`:50256 for open-end generation.\n"
     ]
    },
    {
     "name": "stdout",
     "output_type": "stream",
     "text": [
      "Time taken: 0.068695068359375\n"
     ]
    },
    {
     "name": "stderr",
     "output_type": "stream",
     "text": [
      "The attention mask and the pad token id were not set. As a consequence, you may observe unexpected behavior. Please pass your input's `attention_mask` to obtain reliable results.\n",
      "Setting `pad_token_id` to `eos_token_id`:50256 for open-end generation.\n"
     ]
    },
    {
     "name": "stdout",
     "output_type": "stream",
     "text": [
      "Time taken: 0.06191873550415039\n"
     ]
    },
    {
     "name": "stderr",
     "output_type": "stream",
     "text": [
      "The attention mask and the pad token id were not set. As a consequence, you may observe unexpected behavior. Please pass your input's `attention_mask` to obtain reliable results.\n",
      "Setting `pad_token_id` to `eos_token_id`:50256 for open-end generation.\n"
     ]
    },
    {
     "name": "stdout",
     "output_type": "stream",
     "text": [
      "Time taken: 0.09184670448303223\n"
     ]
    },
    {
     "name": "stderr",
     "output_type": "stream",
     "text": [
      "The attention mask and the pad token id were not set. As a consequence, you may observe unexpected behavior. Please pass your input's `attention_mask` to obtain reliable results.\n",
      "Setting `pad_token_id` to `eos_token_id`:50256 for open-end generation.\n"
     ]
    },
    {
     "name": "stdout",
     "output_type": "stream",
     "text": [
      "Time taken: 0.05188274383544922\n"
     ]
    },
    {
     "name": "stderr",
     "output_type": "stream",
     "text": [
      "The attention mask and the pad token id were not set. As a consequence, you may observe unexpected behavior. Please pass your input's `attention_mask` to obtain reliable results.\n",
      "Setting `pad_token_id` to `eos_token_id`:50256 for open-end generation.\n"
     ]
    },
    {
     "name": "stdout",
     "output_type": "stream",
     "text": [
      "Time taken: 0.03211712837219238\n"
     ]
    },
    {
     "name": "stderr",
     "output_type": "stream",
     "text": [
      "The attention mask and the pad token id were not set. As a consequence, you may observe unexpected behavior. Please pass your input's `attention_mask` to obtain reliable results.\n",
      "Setting `pad_token_id` to `eos_token_id`:50256 for open-end generation.\n"
     ]
    },
    {
     "name": "stdout",
     "output_type": "stream",
     "text": [
      "Time taken: 0.04885292053222656\n"
     ]
    },
    {
     "name": "stderr",
     "output_type": "stream",
     "text": [
      "The attention mask and the pad token id were not set. As a consequence, you may observe unexpected behavior. Please pass your input's `attention_mask` to obtain reliable results.\n",
      "Setting `pad_token_id` to `eos_token_id`:50256 for open-end generation.\n"
     ]
    },
    {
     "name": "stdout",
     "output_type": "stream",
     "text": [
      "Time taken: 0.10812997817993164\n"
     ]
    },
    {
     "name": "stderr",
     "output_type": "stream",
     "text": [
      "The attention mask and the pad token id were not set. As a consequence, you may observe unexpected behavior. Please pass your input's `attention_mask` to obtain reliable results.\n",
      "Setting `pad_token_id` to `eos_token_id`:50256 for open-end generation.\n"
     ]
    },
    {
     "name": "stdout",
     "output_type": "stream",
     "text": [
      "Time taken: 0.05913257598876953\n"
     ]
    },
    {
     "name": "stderr",
     "output_type": "stream",
     "text": [
      "The attention mask and the pad token id were not set. As a consequence, you may observe unexpected behavior. Please pass your input's `attention_mask` to obtain reliable results.\n",
      "Setting `pad_token_id` to `eos_token_id`:50256 for open-end generation.\n"
     ]
    },
    {
     "name": "stdout",
     "output_type": "stream",
     "text": [
      "Time taken: 0.06973695755004883\n",
      "Time taken: 0.05596017837524414\n",
      "The most influential token in Sentence A is: Ġsentence\n"
     ]
    }
   ],
   "source": [
    "import time\n",
    "sentence_A = \"Your example sentence for GPT-2 here.\"\n",
    "tokens_A = gpt2_tokenizer.tokenize(sentence_A)\n",
    "input_A = gpt2_tokenizer.encode(sentence_A, return_tensors='pt')\n",
    "\n",
    "# Generate unperturbed Sentence B\n",
    "with torch.no_grad():\n",
    "    outputs = gpt2_model.generate(input_A, max_length=50)\n",
    "sentence_B = gpt2_tokenizer.decode(outputs[0], skip_special_tokens=True)\n",
    "\n",
    "# Compute base loss from Sentence B\n",
    "input_B = bert_tokenizer.encode(sentence_B, return_tensors='pt')\n",
    "labels = torch.tensor([5]).unsqueeze(0)\n",
    "outputs = bert_model(input_B, labels=labels)\n",
    "base_loss = outputs.loss.item()\n",
    "\n",
    "loss_changes = []\n",
    "\n",
    "# Perturb each token in Sentence A and compute new loss\n",
    "# for idx, token in enumerate(tokens_A):\n",
    "for idx, token in enumerate(tokens_A):    \n",
    "    perturbed_sentence = ' '.join(tokens_A[:idx] + ['[MASK]'] + tokens_A[idx+1:])\n",
    "    perturbed_input = gpt2_tokenizer.encode(perturbed_sentence, return_tensors='pt')\n",
    "    \n",
    "    with torch.no_grad():\n",
    "        perturbed_outputs = gpt2_model.generate(perturbed_input, max_length=50)\n",
    "\n",
    "    perturbed_sentence_B = gpt2_tokenizer.decode(perturbed_outputs[0], skip_special_tokens=True)\n",
    "    \n",
    "    perturbed_input_B = bert_tokenizer.encode(perturbed_sentence_B, return_tensors='pt')\n",
    "\n",
    "    start = time.time()\n",
    "    perturbed_outputs = bert_model(perturbed_input_B, labels=labels)\n",
    "    print(f\"Time taken: {time.time() - start}\")\n",
    "    perturbed_loss = perturbed_outputs.loss.item()\n",
    "    \n",
    "    loss_changes.append(abs(base_loss - perturbed_loss))\n",
    "\n",
    "# Identify most influential token\n",
    "most_influential_idx = loss_changes.index(max(loss_changes))\n",
    "print(f\"The most influential token in Sentence A is: {tokens_A[most_influential_idx]}\")\n"
   ]
  },
  {
   "cell_type": "code",
   "execution_count": null,
   "metadata": {},
   "outputs": [],
   "source": []
  }
 ],
 "metadata": {
  "kernelspec": {
   "display_name": "trl",
   "language": "python",
   "name": "python3"
  },
  "language_info": {
   "codemirror_mode": {
    "name": "ipython",
    "version": 3
   },
   "file_extension": ".py",
   "mimetype": "text/x-python",
   "name": "python",
   "nbconvert_exporter": "python",
   "pygments_lexer": "ipython3",
   "version": "3.11.3"
  },
  "orig_nbformat": 4
 },
 "nbformat": 4,
 "nbformat_minor": 2
}
